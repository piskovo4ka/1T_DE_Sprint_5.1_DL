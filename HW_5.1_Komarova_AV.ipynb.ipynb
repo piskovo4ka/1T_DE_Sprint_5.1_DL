{
  "cells": [
    {
      "cell_type": "code",
      "execution_count": 125,
      "outputs": [],
      "source": [
        "import torch\n",
        "import numpy as np\n",
        "import matplotlib.pyplot as plt\n",
        "from torchvision import datasets\n",
        "from torch.utils.data import DataLoader\n",
        "from torchvision.transforms import ToTensor\n",
        "from tqdm import tqdm\n",
        "import seaborn as sns\n",
        "\n",
        "from torchvision import transforms\n",
        "\n",
        "from IPython.display import clear_output\n",
        "\n",
        "from sklearn.metrics import classification_report, accuracy_score, f1_score"
      ],
      "metadata": {
        "pycharm": {
          "name": "#%%\n"
        },
        "id": "2tm9JvmzF49M"
      }
    },
    {
      "cell_type": "code",
      "source": [
        "train_on_gpu = torch.cuda.is_available()\n",
        "\n",
        "if not train_on_gpu:\n",
        "    print('CUDA is not available.  Training on CPU ...')\n",
        "else:\n",
        "    print('CUDA is available!  Training on GPU ...')\n",
        "\n",
        "device = torch.device('cuda' if torch.cuda.is_available() else 'cpu')\n",
        "\n",
        "print(device)\n",
        "\n",
        "!nvidia-smi"
      ],
      "metadata": {
        "id": "3ARCkan3oe5R",
        "outputId": "bd90a23d-73e5-454f-f4ad-47d9fda8188c",
        "colab": {
          "base_uri": "https://localhost:8080/"
        }
      },
      "execution_count": 126,
      "outputs": [
        {
          "output_type": "stream",
          "name": "stdout",
          "text": [
            "CUDA is available!  Training on GPU ...\n",
            "cuda\n",
            "Mon Dec 19 21:39:26 2022       \n",
            "+-----------------------------------------------------------------------------+\n",
            "| NVIDIA-SMI 460.32.03    Driver Version: 460.32.03    CUDA Version: 11.2     |\n",
            "|-------------------------------+----------------------+----------------------+\n",
            "| GPU  Name        Persistence-M| Bus-Id        Disp.A | Volatile Uncorr. ECC |\n",
            "| Fan  Temp  Perf  Pwr:Usage/Cap|         Memory-Usage | GPU-Util  Compute M. |\n",
            "|                               |                      |               MIG M. |\n",
            "|===============================+======================+======================|\n",
            "|   0  Tesla T4            Off  | 00000000:00:04.0 Off |                    0 |\n",
            "| N/A   71C    P0    29W /  70W |    836MiB / 15109MiB |      0%      Default |\n",
            "|                               |                      |                  N/A |\n",
            "+-------------------------------+----------------------+----------------------+\n",
            "                                                                               \n",
            "+-----------------------------------------------------------------------------+\n",
            "| Processes:                                                                  |\n",
            "|  GPU   GI   CI        PID   Type   Process name                  GPU Memory |\n",
            "|        ID   ID                                                   Usage      |\n",
            "|=============================================================================|\n",
            "+-----------------------------------------------------------------------------+\n"
          ]
        }
      ]
    },
    {
      "cell_type": "markdown",
      "source": [
        "### Подготовка данных для использования\n",
        " - Получение Датасета\n",
        " - Получение Даталоадера\n",
        " - Просмотр данных"
      ],
      "metadata": {
        "collapsed": false,
        "pycharm": {
          "name": "#%% md\n"
        },
        "id": "K4wl3qJGF49W"
      }
    },
    {
      "cell_type": "code",
      "execution_count": 127,
      "outputs": [],
      "source": [
        "train_dataset = datasets.MNIST(\n",
        "    root = './data',\n",
        "    train = True,\n",
        "    download = True,\n",
        "    transform=ToTensor()\n",
        ")\n",
        "test_dataset = datasets.MNIST(\n",
        "    root = './data',\n",
        "    train = False,\n",
        "    transform=ToTensor()\n",
        ")"
      ],
      "metadata": {
        "pycharm": {
          "name": "#%%\n"
        },
        "id": "5BYYUTi_F49Z"
      }
    },
    {
      "cell_type": "code",
      "execution_count": 128,
      "outputs": [],
      "source": [
        "BATCH_SIZE = 64"
      ],
      "metadata": {
        "pycharm": {
          "name": "#%%\n"
        },
        "id": "elLqyG5aF49a"
      }
    },
    {
      "cell_type": "code",
      "execution_count": 129,
      "outputs": [],
      "source": [
        "train_dataloader = DataLoader(train_dataset, batch_size=BATCH_SIZE, shuffle=True, drop_last=True)\n",
        "test_dataloader = DataLoader(test_dataset, batch_size=BATCH_SIZE, shuffle=True, drop_last=True)"
      ],
      "metadata": {
        "pycharm": {
          "name": "#%%\n"
        },
        "id": "vvhpPSMZF49b"
      }
    },
    {
      "cell_type": "code",
      "execution_count": 130,
      "outputs": [
        {
          "output_type": "execute_result",
          "data": {
            "text/plain": [
              "tensor([1, 7, 5, 9, 2, 1, 8, 8, 5, 0, 2, 4, 5, 5, 8, 4, 4, 1, 8, 6, 2, 6, 2, 8,\n",
              "        2, 7, 8, 5, 8, 2, 2, 4, 3, 3, 7, 1, 4, 6, 7, 0, 2, 2, 4, 9, 2, 4, 3, 2,\n",
              "        7, 9, 2, 4, 2, 1, 6, 0, 5, 2, 1, 3, 5, 3, 2, 3])"
            ]
          },
          "metadata": {},
          "execution_count": 130
        }
      ],
      "source": [
        "### Целевое значение\n",
        "next(iter(train_dataloader))[1]"
      ],
      "metadata": {
        "pycharm": {
          "name": "#%%\n"
        },
        "id": "OEBebBmsF49c",
        "outputId": "f5a1ff07-ec30-4156-eddc-cb01e0494194",
        "colab": {
          "base_uri": "https://localhost:8080/"
        }
      }
    },
    {
      "cell_type": "code",
      "execution_count": 131,
      "outputs": [
        {
          "output_type": "execute_result",
          "data": {
            "text/plain": [
              "torch.Size([64, 1, 28, 28])"
            ]
          },
          "metadata": {},
          "execution_count": 131
        }
      ],
      "source": [
        "### Torch tensor\n",
        "next(iter(train_dataloader))[0].shape"
      ],
      "metadata": {
        "pycharm": {
          "name": "#%%\n"
        },
        "id": "QtWfk0IGF49f",
        "outputId": "55c1cf8a-ad03-4c6f-95e6-6f53f0bbef28",
        "colab": {
          "base_uri": "https://localhost:8080/"
        }
      }
    },
    {
      "cell_type": "code",
      "execution_count": 132,
      "outputs": [
        {
          "output_type": "execute_result",
          "data": {
            "text/plain": [
              "<matplotlib.image.AxesImage at 0x7f3a462f96a0>"
            ]
          },
          "metadata": {},
          "execution_count": 132
        },
        {
          "output_type": "display_data",
          "data": {
            "text/plain": [
              "<Figure size 432x288 with 1 Axes>"
            ],
            "image/png": "[encoded data removed]"
          },
          "metadata": {
            "needs_background": "light"
          }
        }
      ],
      "source": [
        "for_show = next(iter(train_dataloader))[0]\n",
        "plt.imshow(for_show.numpy()[0][0])"
      ],
      "metadata": {
        "pycharm": {
          "name": "#%%\n"
        },
        "id": "RdgulippF49g",
        "outputId": "2d10fdaf-d99f-4d30-b440-a37953f4ea03",
        "colab": {
          "base_uri": "https://localhost:8080/",
          "height": 282
        }
      }
    },
    {
      "cell_type": "markdown",
      "source": [
        "### Построим нейронную сеть, чтобы для решения задачи бинарной классфикации (является ли цифра 9-кой или нет)"
      ],
      "metadata": {
        "collapsed": false,
        "pycharm": {
          "name": "#%% md\n"
        },
        "id": "5fOPs_X-F49h"
      }
    },
    {
      "cell_type": "code",
      "execution_count": 133,
      "outputs": [],
      "source": [
        "class IsOne(torch.nn.Module):\n",
        "    def __init__(self):\n",
        "        super().__init__()\n",
        "        self.Linear1 = torch.nn.Linear(28*28, 256)\n",
        "        self.Linear2 = torch.nn.Linear(256, 64)\n",
        "        self.Linear3 = torch.nn.Linear(64, 1)\n",
        "        self.relu = torch.nn.ReLU()\n",
        "        self.Sigmoid = torch.nn.Sigmoid()\n",
        "    def forward(self, x):\n",
        "        x = x.squeeze(1)\n",
        "        x = x.flatten(1)\n",
        "        x = self.Linear1(x)\n",
        "        x = self.relu(x)\n",
        "        x = self.Linear2(x)\n",
        "        x = self.relu(x)\n",
        "        x = self.Linear3(x).squeeze(1)\n",
        "        x = self.Sigmoid(x)\n",
        "        return x"
      ],
      "metadata": {
        "pycharm": {
          "name": "#%%\n"
        },
        "id": "jGyMgfsqF49j"
      }
    },
    {
      "cell_type": "code",
      "execution_count": 134,
      "outputs": [],
      "source": [
        "model = IsOne().to(device)"
      ],
      "metadata": {
        "pycharm": {
          "name": "#%%\n"
        },
        "id": "cONBDc08F49k"
      }
    },
    {
      "cell_type": "markdown",
      "source": [
        "### Функция, вычисляющая лосс"
      ],
      "metadata": {
        "collapsed": false,
        "pycharm": {
          "name": "#%% md\n"
        },
        "id": "YGLqoyKSF49k"
      }
    },
    {
      "cell_type": "code",
      "execution_count": 135,
      "outputs": [],
      "source": [
        "def loss_function(true, pred):\n",
        "    loss = torch.nn.BCELoss()\n",
        "    return loss(pred, true)"
      ],
      "metadata": {
        "pycharm": {
          "name": "#%%\n"
        },
        "id": "fCB5WRPHF49l"
      }
    },
    {
      "cell_type": "markdown",
      "source": [
        "### Оптимизатор"
      ],
      "metadata": {
        "collapsed": false,
        "pycharm": {
          "name": "#%% md\n"
        },
        "id": "yWeTPqJ9F49m"
      }
    },
    {
      "cell_type": "code",
      "execution_count": 136,
      "outputs": [],
      "source": [
        "optimizer = torch.optim.SGD(params = model.parameters(), lr = 1e-3)"
      ],
      "metadata": {
        "pycharm": {
          "name": "#%%\n"
        },
        "id": "8JlXVWpzF49m"
      }
    },
    {
      "cell_type": "markdown",
      "source": [
        "### Построим процесс обучения нейронной сети"
      ],
      "metadata": {
        "collapsed": false,
        "pycharm": {
          "name": "#%% md\n"
        },
        "id": "99vKWaA_F49n"
      }
    },
    {
      "cell_type": "code",
      "execution_count": 137,
      "outputs": [],
      "source": [
        "NUM_EPOCHS = 10\n",
        "WANTED_LABEL = 9"
      ],
      "metadata": {
        "pycharm": {
          "name": "#%%\n"
        },
        "id": "yvcI0hELF49n"
      }
    },
    {
      "cell_type": "code",
      "execution_count": 181,
      "outputs": [
        {
          "output_type": "stream",
          "name": "stderr",
          "text": [
            "\r  0%|          | 0/10 [00:00<?, ?it/s]"
          ]
        },
        {
          "output_type": "stream",
          "name": "stdout",
          "text": [
            "[0.19304766672938717]\n"
          ]
        },
        {
          "output_type": "stream",
          "name": "stderr",
          "text": [
            "\r 10%|█         | 1/10 [00:07<01:03,  7.08s/it]"
          ]
        },
        {
          "output_type": "stream",
          "name": "stdout",
          "text": [
            "[0.19304766672938717, 0.18692342746156002]\n"
          ]
        },
        {
          "output_type": "stream",
          "name": "stderr",
          "text": [
            "\r 20%|██        | 2/10 [00:19<01:24, 10.51s/it]"
          ]
        },
        {
          "output_type": "stream",
          "name": "stdout",
          "text": [
            "[0.19304766672938717, 0.18692342746156002, 0.18145536181289343]\n"
          ]
        },
        {
          "output_type": "stream",
          "name": "stderr",
          "text": [
            "\r 30%|███       | 3/10 [00:30<01:12, 10.34s/it]"
          ]
        },
        {
          "output_type": "stream",
          "name": "stdout",
          "text": [
            "[0.19304766672938717, 0.18692342746156002, 0.18145536181289343, 0.17639060194426198]\n"
          ]
        },
        {
          "output_type": "stream",
          "name": "stderr",
          "text": [
            "\r 40%|████      | 4/10 [00:37<00:54,  9.01s/it]"
          ]
        },
        {
          "output_type": "stream",
          "name": "stdout",
          "text": [
            "[0.19304766672938717, 0.18692342746156002, 0.18145536181289343, 0.17639060194426198, 0.1717591490974232]\n"
          ]
        },
        {
          "output_type": "stream",
          "name": "stderr",
          "text": [
            "\r 50%|█████     | 5/10 [00:44<00:41,  8.34s/it]"
          ]
        },
        {
          "output_type": "stream",
          "name": "stdout",
          "text": [
            "[0.19304766672938717, 0.18692342746156002, 0.18145536181289343, 0.17639060194426198, 0.1717591490974232, 0.1672090240132974]\n"
          ]
        },
        {
          "output_type": "stream",
          "name": "stderr",
          "text": [
            "\r 60%|██████    | 6/10 [00:51<00:32,  8.07s/it]"
          ]
        },
        {
          "output_type": "stream",
          "name": "stdout",
          "text": [
            "[0.19304766672938717, 0.18692342746156002, 0.18145536181289343, 0.17639060194426198, 0.1717591490974232, 0.1672090240132974, 0.16309855573809645]\n"
          ]
        },
        {
          "output_type": "stream",
          "name": "stderr",
          "text": [
            "\r 70%|███████   | 7/10 [01:03<00:28,  9.40s/it]"
          ]
        },
        {
          "output_type": "stream",
          "name": "stdout",
          "text": [
            "[0.19304766672938717, 0.18692342746156002, 0.18145536181289343, 0.17639060194426198, 0.1717591490974232, 0.1672090240132974, 0.16309855573809645, 0.15908481086044712]\n"
          ]
        },
        {
          "output_type": "stream",
          "name": "stderr",
          "text": [
            "\r 80%|████████  | 8/10 [01:11<00:17,  8.80s/it]"
          ]
        },
        {
          "output_type": "stream",
          "name": "stdout",
          "text": [
            "[0.19304766672938717, 0.18692342746156002, 0.18145536181289343, 0.17639060194426198, 0.1717591490974232, 0.1672090240132974, 0.16309855573809645, 0.15908481086044712, 0.1549418320603024]\n"
          ]
        },
        {
          "output_type": "stream",
          "name": "stderr",
          "text": [
            "\r 90%|█████████ | 9/10 [01:18<00:08,  8.24s/it]"
          ]
        },
        {
          "output_type": "stream",
          "name": "stdout",
          "text": [
            "[0.19304766672938717, 0.18692342746156002, 0.18145536181289343, 0.17639060194426198, 0.1717591490974232, 0.1672090240132974, 0.16309855573809645, 0.15908481086044712, 0.1549418320603024, 0.15127156285634674]\n"
          ]
        },
        {
          "output_type": "stream",
          "name": "stderr",
          "text": [
            "100%|██████████| 10/10 [01:25<00:00,  8.54s/it]\n"
          ]
        }
      ],
      "source": [
        "train_loss = []\n",
        "test_loss = []\n",
        "for epoch in tqdm(range(NUM_EPOCHS)):\n",
        "    model.train(True)\n",
        "    train_loss_epoch = 0\n",
        "    test_loss_epoch = 0\n",
        "    for X, y in train_dataloader:\n",
        "        model.zero_grad()\n",
        "        true = (y == WANTED_LABEL).float().to(device)\n",
        "        predictions = model.forward(X.to(device))\n",
        "        loss_value = loss_function(true, predictions)\n",
        "        loss_value.backward()\n",
        "        train_loss_epoch += loss_value.item()/len(train_dataloader)\n",
        "        optimizer.step()\n",
        "        \n",
        "    train_loss.append(train_loss_epoch)\n",
        "    #print(train_loss)\n",
        "    model.train(False)\n",
        "    for X, y in test_dataloader:\n",
        "        true = (y == WANTED_LABEL).float().to(device)\n",
        "        predictions = model.forward(X.to(device))\n",
        "        loss_value = loss_function(true, predictions)\n",
        "        test_loss_epoch += loss_value.item()/len(test_dataloader)\n",
        "    test_loss.append(test_loss_epoch)\n",
        "    # print(epoch, train_loss[-1], test_loss[-1])\n"
      ],
      "metadata": {
        "pycharm": {
          "name": "#%%\n"
        },
        "id": "yF8yTGT9F49n",
        "outputId": "73a67fa5-d374-46f4-b84c-0255174d8812",
        "colab": {
          "base_uri": "https://localhost:8080/"
        }
      }
    },
    {
      "cell_type": "code",
      "execution_count": 182,
      "outputs": [
        {
          "output_type": "stream",
          "name": "stderr",
          "text": [
            "/usr/local/lib/python3.8/dist-packages/seaborn/_decorators.py:36: FutureWarning: Pass the following variable as a keyword arg: x. From version 0.12, the only valid positional argument will be `data`, and passing other arguments without an explicit keyword will result in an error or misinterpretation.\n",
            "  warnings.warn(\n",
            "/usr/local/lib/python3.8/dist-packages/seaborn/_decorators.py:36: FutureWarning: Pass the following variable as a keyword arg: x. From version 0.12, the only valid positional argument will be `data`, and passing other arguments without an explicit keyword will result in an error or misinterpretation.\n",
            "  warnings.warn(\n"
          ]
        },
        {
          "output_type": "execute_result",
          "data": {
            "text/plain": [
              "<matplotlib.axes._subplots.AxesSubplot at 0x7f3a40e093d0>"
            ]
          },
          "metadata": {},
          "execution_count": 182
        },
        {
          "output_type": "display_data",
          "data": {
            "text/plain": [
              "<Figure size 432x288 with 1 Axes>"
            ],
            "image/png": "[encoded data removed]"
          },
          "metadata": {
            "needs_background": "light"
          }
        }
      ],
      "source": [
        "sns.lineplot(train_loss)\n",
        "sns.lineplot(test_loss)"
      ],
      "metadata": {
        "pycharm": {
          "name": "#%%\n"
        },
        "id": "WadJNJRyF49o",
        "outputId": "021485b8-2210-49e1-92e6-c52b9b0fd7b2",
        "colab": {
          "base_uri": "https://localhost:8080/",
          "height": 372
        }
      }
    },
    {
      "cell_type": "markdown",
      "source": [],
      "metadata": {
        "id": "KBJ1UoRADjGJ"
      }
    },
    {
      "cell_type": "code",
      "source": [
        "preds = []\n",
        "reals = []\n",
        "\n",
        "with torch.no_grad():\n",
        "  for X, y in test_dataloader:\n",
        "      preds.append(model(X.to(device)).detach().cpu().numpy())\n",
        "      reals.append((y==WANTED_LABEL).int().to(device).cpu().numpy())"
      ],
      "metadata": {
        "id": "f8k0EIx3CoTi"
      },
      "execution_count": 183,
      "outputs": []
    },
    {
      "cell_type": "code",
      "execution_count": 184,
      "outputs": [],
      "source": [
        "preds = (np.concatenate(preds)>=0.5).astype(int)\n",
        "reals = np.concatenate(reals)"
      ],
      "metadata": {
        "pycharm": {
          "name": "#%%\n"
        },
        "id": "UG83mWk4F49p"
      }
    },
    {
      "cell_type": "code",
      "execution_count": 186,
      "outputs": [
        {
          "output_type": "execute_result",
          "data": {
            "text/plain": [
              "(0.9483173076923077, 0.6636245110821382)"
            ]
          },
          "metadata": {},
          "execution_count": 186
        }
      ],
      "source": [
        "accuracy_score(preds, reals), f1_score(reals, preds)"
      ],
      "metadata": {
        "pycharm": {
          "name": "#%%\n"
        },
        "id": "_P48DggEF49q",
        "outputId": "1e2315dd-7664-465e-a701-e41db40a1531",
        "colab": {
          "base_uri": "https://localhost:8080/"
        }
      }
    },
    {
      "cell_type": "code",
      "source": [
        "print(classification_report(reals, preds))"
      ],
      "metadata": {
        "colab": {
          "base_uri": "https://localhost:8080/"
        },
        "id": "DHlCJWLBXuWu",
        "outputId": "b72582f7-c8f4-46e1-89c7-5fb542cc42ed"
      },
      "execution_count": 187,
      "outputs": [
        {
          "output_type": "stream",
          "name": "stdout",
          "text": [
            "              precision    recall  f1-score   support\n",
            "\n",
            "           0       0.95      1.00      0.97      8976\n",
            "           1       0.97      0.50      0.66      1008\n",
            "\n",
            "    accuracy                           0.95      9984\n",
            "   macro avg       0.96      0.75      0.82      9984\n",
            "weighted avg       0.95      0.95      0.94      9984\n",
            "\n"
          ]
        }
      ]
    },
    {
      "cell_type": "markdown",
      "source": [
        "### Домашняя работа\n",
        "Изменить нейронную сеть следующим образом:\n",
        " - Чтобы она решала задачу не бинарной классификации, а многоклассовой (Для этого нужно использовать другую лосс функцию и функцию активации на выходе)\n",
        " - Чтобы в ней было не 2 скрытых слоя, а три\n",
        " - Чтобы кол-во нейронов подставлялось через массив, поданный при инициализации класса модели\n",
        " - Чтобы происходил dropout (вероятность 0.3) до первого скрытого слоя. Показать, как это изменение повлияло на результат работы модели на тестовой выборке.\n",
        " - Посчитать метрики классификации через classification report (sklearn) для каждого класса"
      ],
      "metadata": {
        "collapsed": false,
        "pycharm": {
          "name": "#%% md\n"
        },
        "id": "5epgGnVtF49r"
      }
    },
    {
      "cell_type": "markdown",
      "source": [
        "### Построим нейронную сеть, чтобы для решения задачи мультиклассовой классфикации "
      ],
      "metadata": {
        "collapsed": false,
        "pycharm": {
          "name": "#%% md\n"
        },
        "id": "iDmTmshah6A8"
      }
    },
    {
      "cell_type": "code",
      "source": [
        "batch_size = 64\n",
        "# MNIST Dataset\n",
        "train_dataset = datasets.MNIST(root='./mnist_data/', train=True, transform=transforms.ToTensor(), download=True)\n",
        "test_dataset = datasets.MNIST(root='./mnist_data/', train=False, transform=transforms.ToTensor(), download=False)\n",
        "\n",
        "# Data Loader (Input Pipeline)\n",
        "train_loader = torch.utils.data.DataLoader(dataset=train_dataset, batch_size=batch_size, shuffle=True)\n",
        "test_loader = torch.utils.data.DataLoader(dataset=test_dataset, batch_size=batch_size, shuffle=False)"
      ],
      "metadata": {
        "id": "LeBeG_RQ-SRw"
      },
      "execution_count": 190,
      "outputs": []
    },
    {
      "cell_type": "code",
      "source": [
        "num_features = 10"
      ],
      "metadata": {
        "id": "tOmIMb0WjbcK"
      },
      "execution_count": 259,
      "outputs": []
    },
    {
      "cell_type": "code",
      "execution_count": 260,
      "outputs": [],
      "source": [
        "class Multy(torch.nn.Module):\n",
        "    def __init__(self):\n",
        "        super().__init__()\n",
        "\n",
        "                 \n",
        "        self.seq = torch.nn.Sequential(\n",
        "            torch.nn.Linear(28*28, 512), \n",
        "            torch.nn.Dropout(p=0.3),\n",
        "            torch.nn.ReLU(),                       \n",
        "            torch.nn.Linear(512, 256),\n",
        "            torch.nn.ReLU(),\n",
        "            torch.nn.Linear(256, 128),\n",
        "            torch.nn.ReLU(),\n",
        "            torch.nn.Linear(128, 64),\n",
        "            torch.nn.ReLU(),\n",
        "            torch.nn.Linear(64, num_features),\n",
        "            torch.nn.ReLU(),\n",
        "            torch.nn.Softmax(dim = 1)\n",
        "        )\n",
        "\n",
        "    def forward(self, x):\n",
        "        x = x.squeeze(1)\n",
        "        x = x.flatten(1)\n",
        "        x = self.seq(x)\n",
        "        return x"
      ],
      "metadata": {
        "pycharm": {
          "name": "#%%\n"
        },
        "id": "g1qZCy-jh6A9"
      }
    },
    {
      "cell_type": "markdown",
      "source": [
        "### Параметры"
      ],
      "metadata": {
        "collapsed": false,
        "pycharm": {
          "name": "#%% md\n"
        },
        "id": "7HxRsLxih6A_"
      }
    },
    {
      "cell_type": "code",
      "source": [
        "NUM_EPOCHS = 50\n",
        "criterion = torch.nn.CrossEntropyLoss()\n",
        "model = Multy().to(device)\n",
        "optimizer = torch.optim.Adam(model.parameters())"
      ],
      "metadata": {
        "id": "wSABFKATmXSi"
      },
      "execution_count": 261,
      "outputs": []
    },
    {
      "cell_type": "markdown",
      "source": [
        "### Построим процесс обучения нейронной сети"
      ],
      "metadata": {
        "collapsed": false,
        "pycharm": {
          "name": "#%% md\n"
        },
        "id": "biqSACeLh6A_"
      }
    },
    {
      "cell_type": "code",
      "source": [
        "model"
      ],
      "metadata": {
        "colab": {
          "base_uri": "https://localhost:8080/"
        },
        "id": "klgsag6Z95Yz",
        "outputId": "5f2d79e3-ceac-47a9-e830-319d0d1d802f"
      },
      "execution_count": 262,
      "outputs": [
        {
          "output_type": "execute_result",
          "data": {
            "text/plain": [
              "Multy(\n",
              "  (seq): Sequential(\n",
              "    (0): Linear(in_features=784, out_features=512, bias=True)\n",
              "    (1): Dropout(p=0.3, inplace=False)\n",
              "    (2): ReLU()\n",
              "    (3): Linear(in_features=512, out_features=256, bias=True)\n",
              "    (4): ReLU()\n",
              "    (5): Linear(in_features=256, out_features=128, bias=True)\n",
              "    (6): ReLU()\n",
              "    (7): Linear(in_features=128, out_features=64, bias=True)\n",
              "    (8): ReLU()\n",
              "    (9): Linear(in_features=64, out_features=10, bias=True)\n",
              "    (10): ReLU()\n",
              "    (11): Softmax(dim=1)\n",
              "  )\n",
              ")"
            ]
          },
          "metadata": {},
          "execution_count": 262
        }
      ]
    },
    {
      "cell_type": "code",
      "execution_count": 263,
      "outputs": [],
      "source": [
        "def train(model, optimizer, epochs=NUM_EPOCHS, learning_rate=lr):  \n",
        "  train_loss = []\n",
        "  val_loss = []\n",
        "  pred = []\n",
        "  val_acc = []\n",
        "\n",
        "  for epoch in tqdm(range(epochs)):\n",
        "      model.train()\n",
        "      train_loss_epoch = 0\n",
        "      val_loss_epoch = 0\n",
        "      for X, y in train_dataloader:\n",
        "          model.zero_grad()\n",
        "          features = X.to(device)\n",
        "          target = y.to(device)\n",
        "          predictions = model(features)\n",
        "          loss = criterion(predictions, target)\n",
        "          loss.backward()\n",
        "          train_loss_epoch += loss.item()/len(train_dataloader)\n",
        "          optimizer.step()\n",
        "      train_loss.append(train_loss_epoch)\n",
        "\n",
        "      preds = []\n",
        "      targets = []\n",
        "      model.eval()\n",
        "      for X, y in test_dataloader:\n",
        "          features = X.to(device)\n",
        "          target = y.to(device)\n",
        "          predictions = model(features)\n",
        "          loss = criterion(predictions, target)\n",
        "          val_loss_epoch += loss.item()/len(test_dataloader)\n",
        "          preds.append(predictions.argmax(axis = 1).detach().cpu().numpy())\n",
        "          targets.append(target.cpu().numpy())\n",
        "\n",
        "      val_loss.append(val_loss_epoch)\n",
        "      val_acc.append(f1_score(np.concatenate(targets), np.concatenate(preds), average = 'micro'))\n",
        "\n",
        "      fig, ax = plt.subplots(nrows=1, ncols=1, figsize=(8, 8))\n",
        "      clear_output(True)\n",
        "      if train_loss is not None:\n",
        "          ax.plot(train_loss, label='general train history')\n",
        "          ax.set_xlabel('Epoch')\n",
        "          ax.set_title('Train and Val loss')\n",
        "      if val_loss is not None:\n",
        "          ax.plot(val_loss, label='general valid history')\n",
        "      plt.legend()\n",
        "      plt.show()  \n",
        "\n",
        "      print(f'\\nEpoch: {epoch+1:01}')\n",
        "      print(f'Train Loss: {train_loss[epoch]:.3f}')\n",
        "      print(f' Val. Loss: {val_loss[epoch]:.3f} | Val.F_1: {val_acc[epoch]:.3f}')\n",
        "\n",
        "  return train_loss, val_loss, val_acc"
      ],
      "metadata": {
        "pycharm": {
          "name": "#%%\n"
        },
        "id": "_oYh5znRh6BA"
      }
    },
    {
      "cell_type": "code",
      "source": [
        "train_history, val_history, val_acc = train(model, optimizer=optimizer)"
      ],
      "metadata": {
        "id": "yAU3d7C5rZpd",
        "outputId": "c3becb18-443a-49ca-b5a8-b32e0dac2221",
        "colab": {
          "base_uri": "https://localhost:8080/",
          "height": 600
        }
      },
      "execution_count": 264,
      "outputs": [
        {
          "output_type": "display_data",
          "data": {
            "text/plain": [
              "<Figure size 576x576 with 1 Axes>"
            ],
            "image/png": "[encoded data removed]"
          },
          "metadata": {
            "needs_background": "light"
          }
        },
        {
          "output_type": "stream",
          "name": "stderr",
          "text": [
            "100%|██████████| 50/50 [07:07<00:00,  8.55s/it]"
          ]
        },
        {
          "output_type": "stream",
          "name": "stdout",
          "text": [
            "\n",
            "Epoch: 50\n",
            "Train Loss: 1.545\n",
            " Val. Loss: 1.524 | Val.F_1: 0.937\n"
          ]
        },
        {
          "output_type": "stream",
          "name": "stderr",
          "text": [
            "\n"
          ]
        }
      ]
    },
    {
      "cell_type": "markdown",
      "source": [
        "Сохраним веса получившейся модели. "
      ],
      "metadata": {
        "id": "_R1nwZynhR1J"
      }
    },
    {
      "cell_type": "code",
      "source": [
        "torch.save(model.state_dict(), 'HW-model.pt')"
      ],
      "metadata": {
        "id": "oA0G4b7RhN5K"
      },
      "execution_count": 270,
      "outputs": []
    },
    {
      "cell_type": "code",
      "execution_count": 265,
      "outputs": [],
      "source": [
        "preds = []\n",
        "reals = []\n",
        "for X, y in test_dataloader:\n",
        "    preds.append(model(X.to(device)).detach().cpu().numpy())\n",
        "    reals.append(y.to(device).int().cpu().numpy())"
      ],
      "metadata": {
        "pycharm": {
          "name": "#%%\n"
        },
        "id": "_TtkTQ97h6BC"
      }
    },
    {
      "cell_type": "code",
      "source": [
        "preds[0].argmax(axis = 1)"
      ],
      "metadata": {
        "id": "clZBYmAlut5m",
        "outputId": "ab64d230-9d6b-4387-96ad-e43fcfc68dd0",
        "colab": {
          "base_uri": "https://localhost:8080/"
        }
      },
      "execution_count": 266,
      "outputs": [
        {
          "output_type": "execute_result",
          "data": {
            "text/plain": [
              "array([7, 0, 6, 4, 9, 5, 1, 2, 9, 9, 7, 1, 9, 0, 4, 1, 6, 0, 6, 9, 4, 8,\n",
              "       5, 2, 6, 2, 6, 0, 6, 3, 8, 8, 8, 2, 1, 9, 2, 0, 3, 0, 5, 1, 5, 7,\n",
              "       3, 2, 1, 4, 3, 3, 3, 5, 5, 9, 7, 6, 7, 6, 8, 5, 6, 9, 4, 2])"
            ]
          },
          "metadata": {},
          "execution_count": 266
        }
      ]
    },
    {
      "cell_type": "code",
      "execution_count": 267,
      "outputs": [
        {
          "output_type": "execute_result",
          "data": {
            "text/plain": [
              "9984"
            ]
          },
          "metadata": {},
          "execution_count": 267
        }
      ],
      "source": [
        "preds = (np.concatenate(preds).argmax(axis = 1)).astype(int)\n",
        "len(preds)"
      ],
      "metadata": {
        "pycharm": {
          "name": "#%%\n"
        },
        "id": "3Up3Vni_h6BC",
        "colab": {
          "base_uri": "https://localhost:8080/"
        },
        "outputId": "0a9b1aa8-37c1-4f94-e4db-bf397747f77d"
      }
    },
    {
      "cell_type": "code",
      "execution_count": 268,
      "outputs": [
        {
          "output_type": "execute_result",
          "data": {
            "text/plain": [
              "9984"
            ]
          },
          "metadata": {},
          "execution_count": 268
        }
      ],
      "source": [
        "reals = np.concatenate(reals)\n",
        "len(reals)"
      ],
      "metadata": {
        "pycharm": {
          "name": "#%%\n"
        },
        "id": "X-6jAO9eh6BD",
        "colab": {
          "base_uri": "https://localhost:8080/"
        },
        "outputId": "32e2836a-274f-4a0e-a611-e76e48ff609e"
      }
    },
    {
      "cell_type": "code",
      "source": [
        "print(classification_report(reals,preds))"
      ],
      "metadata": {
        "id": "mTQgyEgSnwwA",
        "outputId": "99f15f9e-444a-4800-9ed0-636260dd49d7",
        "colab": {
          "base_uri": "https://localhost:8080/"
        }
      },
      "execution_count": 269,
      "outputs": [
        {
          "output_type": "stream",
          "name": "stdout",
          "text": [
            "              precision    recall  f1-score   support\n",
            "\n",
            "           0       0.97      0.94      0.96       974\n",
            "           1       0.96      0.98      0.97      1132\n",
            "           2       0.93      0.95      0.94      1031\n",
            "           3       0.93      0.93      0.93      1008\n",
            "           4       0.89      0.96      0.92       981\n",
            "           5       0.98      0.88      0.93       891\n",
            "           6       0.89      0.98      0.93       957\n",
            "           7       0.96      0.93      0.95      1028\n",
            "           8       0.95      0.92      0.94       974\n",
            "           9       0.94      0.88      0.91      1008\n",
            "\n",
            "    accuracy                           0.94      9984\n",
            "   macro avg       0.94      0.94      0.94      9984\n",
            "weighted avg       0.94      0.94      0.94      9984\n",
            "\n"
          ]
        }
      ]
    },
    {
      "cell_type": "markdown",
      "source": [
        "### Вывод:\n",
        "1. Модель обучалась 50 эпох и достигла неплохих показателей, на мой взгляд. F-1 = 0.94. \n",
        "2. Использовились лосс-функция CrossEntropyLoss() и оптимизатор Adam с дефолтными параметрами. \n",
        "3. На 24 эпохе loss значительно упал, и по графику видно, что 27 эпох в целом было бы достаточно. \n",
        "4. Dropout = 0.3 дает значительное уменьшение lossa (и соответственно, прирост в метрике) по сравнению с Dropout = 0.1. Проверено эмпирическим путем.\n"
      ],
      "metadata": {
        "collapsed": false,
        "pycharm": {
          "name": "#%% md\n"
        },
        "id": "T8ajhxJRh6BD"
      }
    },
    {
      "cell_type": "code",
      "execution_count": 269,
      "outputs": [],
      "source": [],
      "metadata": {
        "pycharm": {
          "name": "#%%\n"
        },
        "id": "SAdVzAphF49r"
      }
    }
  ],
  "metadata": {
    "kernelspec": {
      "display_name": "Python 3",
      "language": "python",
      "name": "python3"
    },
    "language_info": {
      "codemirror_mode": {
        "name": "ipython",
        "version": 2
      },
      "file_extension": ".py",
      "mimetype": "text/x-python",
      "name": "python",
      "nbconvert_exporter": "python",
      "pygments_lexer": "ipython2",
      "version": "2.7.6"
    },
    "colab": {
      "provenance": []
    },
    "accelerator": "GPU",
    "gpuClass": "standard"
  },
  "nbformat": 4,
  "nbformat_minor": 0
}